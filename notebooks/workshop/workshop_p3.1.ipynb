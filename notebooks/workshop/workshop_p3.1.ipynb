{
 "cells": [
  {
   "cell_type": "markdown",
   "metadata": {},
   "source": [
    "In Jupyter you can run a *bash* command by typping `!` before the *bash* command. \n",
    "\n",
    "In the next cell try to see the help of rsem-run-ebseq by typing \n",
    "\n",
    "```\n",
    "!rsem-run-ebseq --help\n",
    "```\n",
    "\n",
    "and running the cell ().\n",
    "\n",
    "Remember,you can press \"shift + enter\" to run the cell and move to the next one (ie. without creating a new one)"
   ]
  },
  {
   "cell_type": "code",
   "execution_count": null,
   "metadata": {
    "collapsed": false
   },
   "outputs": [],
   "source": []
  },
  {
   "cell_type": "markdown",
   "metadata": {},
   "source": [
    "You must have realized and error message.\n",
    "Now use the next cell to install the missing perl-doc package with \n",
    "\n",
    "```\n",
    "!sudo apt-get install perl-doc\n",
    "```"
   ]
  },
  {
   "cell_type": "code",
   "execution_count": null,
   "metadata": {
    "collapsed": false
   },
   "outputs": [],
   "source": []
  },
  {
   "cell_type": "markdown",
   "metadata": {},
   "source": [
    "Let's try \n",
    "\n",
    "```\n",
    "!rsem-run-ebseq --help\n",
    "```\n",
    "\n",
    "again."
   ]
  },
  {
   "cell_type": "code",
   "execution_count": null,
   "metadata": {
    "collapsed": true
   },
   "outputs": [],
   "source": []
  },
  {
   "cell_type": "markdown",
   "metadata": {},
   "source": [
    "In the next cells lets do a quick check on the help functions of \n",
    "\n",
    "`rsem-prepare-reference` \n",
    "\n",
    "and \n",
    "\n",
    "`rsem-control-fdr`"
   ]
  },
  {
   "cell_type": "code",
   "execution_count": null,
   "metadata": {
    "collapsed": true
   },
   "outputs": [],
   "source": []
  },
  {
   "cell_type": "code",
   "execution_count": null,
   "metadata": {
    "collapsed": true
   },
   "outputs": [],
   "source": []
  },
  {
   "cell_type": "markdown",
   "metadata": {},
   "source": [
    "# Now, let's do some python\n",
    "\n",
    "In python you can use **packages** which contain ready to to functions for many different purposes.\n",
    "\n",
    "**Pandas** is python package that makes manipulation of dataframes an extremely easy task.\n",
    "\n",
    "For importing a package you do\n",
    "\n",
    "```python\n",
    "import <package_name>\n",
    "```\n",
    "\n",
    "For using functions from an imported package you do\n",
    "\n",
    "```python\n",
    "<package_name>.<function_name>\n",
    "```\n",
    "\n",
    "You can also attribute short names to your imported packages by doing for example:\n",
    "\n",
    "```python\n",
    "import <package_name> as <pn>\n",
    "```\n",
    "\n",
    "In python you can allways call for help by doing:\n",
    "\n",
    "```python\n",
    "help(<package_name>.<function_name>)\n",
    "```\n",
    "\n",
    "Let's import pandas and check the help for the function read excel."
   ]
  },
  {
   "cell_type": "code",
   "execution_count": null,
   "metadata": {
    "collapsed": true
   },
   "outputs": [],
   "source": [
    "import pandas as pd"
   ]
  },
  {
   "cell_type": "code",
   "execution_count": null,
   "metadata": {
    "collapsed": false,
    "scrolled": true
   },
   "outputs": [],
   "source": [
    "help(pd.read_excel)"
   ]
  },
  {
   "cell_type": "code",
   "execution_count": null,
   "metadata": {
    "collapsed": false
   },
   "outputs": [],
   "source": [
    "# os is a general python package for dealing with standard operating systems calls\n",
    "import os\n",
    "\n",
    "path_to_file=os.path.expanduser(\"~\")+\"/work/results/minerva.xlsx\"\n",
    "\n",
    "df=pd.read_excel(path_to_file,\"the_real_sheet\")\n",
    "\n",
    "df"
   ]
  },
  {
   "cell_type": "markdown",
   "metadata": {},
   "source": [
    "This headers don't really fit our purposes, lets' change them:"
   ]
  },
  {
   "cell_type": "code",
   "execution_count": null,
   "metadata": {
    "collapsed": true
   },
   "outputs": [],
   "source": [
    "df.columns=['Genes', 'Control 1', 'Control 2', 'Treated 1', 'Treated 2']\n",
    "\n",
    "# [\"remember\", \"that\",\"this\",\"is\", \"list\"]"
   ]
  },
  {
   "cell_type": "markdown",
   "metadata": {},
   "source": [
    "and check the output"
   ]
  },
  {
   "cell_type": "code",
   "execution_count": null,
   "metadata": {
    "collapsed": false
   },
   "outputs": [],
   "source": [
    "df"
   ]
  },
  {
   "cell_type": "markdown",
   "metadata": {},
   "source": [
    "# Important\n",
    "\n",
    "You don't wanna overload your computer with the possibility of the table having millions of rows.\n",
    "\n",
    "It is allways practical to do \n",
    "```python\n",
    "df.head() \n",
    "```\n",
    "instead to get the first 5 rows and headers.\n",
    "\n",
    "You can also do \n",
    "```python\n",
    "df.head(20)\n",
    "```\n",
    "if you wanna get the first 20 rows."
   ]
  },
  {
   "cell_type": "markdown",
   "metadata": {},
   "source": [
    "Lets select all the genes from the dataframe *df* which in **\"Treated 1\"** have a value above 2 and bellow 6."
   ]
  },
  {
   "cell_type": "code",
   "execution_count": null,
   "metadata": {
    "collapsed": false
   },
   "outputs": [],
   "source": [
    "df_filtered=df[ (df[\"Treated 1\"]>2) & (df[\"Treated 1\"]<6) ]"
   ]
  },
  {
   "cell_type": "code",
   "execution_count": null,
   "metadata": {
    "collapsed": false
   },
   "outputs": [],
   "source": [
    "# Let's check the result\n",
    "df_filtered"
   ]
  },
  {
   "cell_type": "code",
   "execution_count": null,
   "metadata": {
    "collapsed": false
   },
   "outputs": [],
   "source": [
    "# Another way to do it would be \n",
    "df_filtered=df[df[\"Treated 1\"]>2][df[\"Treated 1\"]<6]\n",
    "df_filtered"
   ]
  },
  {
   "cell_type": "markdown",
   "metadata": {},
   "source": [
    "Lets now select all the genes from the dataframe *df* which in **\"Treated 1\"** have a value above 2\n",
    "and in **Treated 2** below 5."
   ]
  },
  {
   "cell_type": "code",
   "execution_count": null,
   "metadata": {
    "collapsed": false
   },
   "outputs": [],
   "source": [
    "df_filtB=df[ (df[\"Treated 1\"]>2) & (df[\"Treated 2\"]<5) ]\n",
    "df_filtB"
   ]
  },
  {
   "cell_type": "markdown",
   "metadata": {},
   "source": [
    "#### !! Index\n",
    "Do you notice how the index is changing on the left, be careful when using indexes to work with your data. Using a column with \n",
    "your own identifier like gene id can often be more practical."
   ]
  },
  {
   "cell_type": "markdown",
   "metadata": {},
   "source": [
    "Let's save our filtered dataframe into a tab separated file."
   ]
  },
  {
   "cell_type": "code",
   "execution_count": null,
   "metadata": {
    "collapsed": true
   },
   "outputs": [],
   "source": [
    "out_file=os.path.expanduser(\"~\")+\"/work/results/filtered_minerva.tsv\"\n",
    "\n",
    "df_filtB.to_csv(out_file,sep=\"\\t\",index=False)"
   ]
  },
  {
   "cell_type": "markdown",
   "metadata": {},
   "source": [
    "You can allways do \n",
    "```python\n",
    "help(df_filtB.to_csv)\n",
    "```\n",
    "if you wanna get help on this."
   ]
  },
  {
   "cell_type": "markdown",
   "metadata": {},
   "source": [
    "Let's read it back and check it out:"
   ]
  },
  {
   "cell_type": "code",
   "execution_count": null,
   "metadata": {
    "collapsed": false
   },
   "outputs": [],
   "source": [
    "checkOUT=pd.read_table(out_file) # realize for reading tsv files we use pd.read_table instead of pd.read_excel\n",
    "checkOUT"
   ]
  },
  {
   "cell_type": "markdown",
   "metadata": {},
   "source": [
    "# Now you!"
   ]
  },
  {
   "cell_type": "markdown",
   "metadata": {},
   "source": [
    "Read the **\"minerva.xlsx\"** excel file again but now read the sheet called **\"the_other_sheet\"** into variable **dos.**\n",
    "\n",
    "Don't forget to check the output."
   ]
  },
  {
   "cell_type": "code",
   "execution_count": null,
   "metadata": {
    "collapsed": true
   },
   "outputs": [],
   "source": [
    "dos="
   ]
  },
  {
   "cell_type": "markdown",
   "metadata": {},
   "source": [
    "Now change the headers to \"ids\",\"mock1\",\"mock2\",\"shRNA1\",\"shRNA2\""
   ]
  },
  {
   "cell_type": "code",
   "execution_count": null,
   "metadata": {
    "collapsed": true
   },
   "outputs": [],
   "source": []
  },
  {
   "cell_type": "markdown",
   "metadata": {},
   "source": [
    "Filter all the genes wich in mock1 and mock2 have a value above 210"
   ]
  },
  {
   "cell_type": "code",
   "execution_count": null,
   "metadata": {
    "collapsed": true
   },
   "outputs": [],
   "source": []
  },
  {
   "cell_type": "markdown",
   "metadata": {},
   "source": [
    "# Functions in python\n",
    "\n",
    "In python you can define a function like this:\n",
    "```python\n",
    "def some_function(xIn):\n",
    "    # do something on in the input\n",
    "    # example, print it\n",
    "    print xIN\n",
    "    # double it\n",
    "    xOut=xIN*2\n",
    "    # and at the end return the result\n",
    "    return xOut\n",
    "```\n",
    "\n",
    "Please notice the tab spacing inside the function after he **\":\"**.\n",
    "\n",
    "Let's try it."
   ]
  },
  {
   "cell_type": "code",
   "execution_count": null,
   "metadata": {
    "collapsed": false
   },
   "outputs": [],
   "source": [
    "def some_function(xIn):\n",
    "    print xIn\n",
    "    xOut=xIn*2\n",
    "    return xOut\n",
    "\n",
    "some_function(100)"
   ]
  },
  {
   "cell_type": "code",
   "execution_count": null,
   "metadata": {
    "collapsed": false
   },
   "outputs": [],
   "source": [
    "# You can use more arguments. Eg.\n",
    "\n",
    "def some_function_B(xIn,factorOf):\n",
    "    print xIn\n",
    "    xOut=xIn*factorOf\n",
    "    return xOut\n",
    "\n",
    "some_function_B(100,4)"
   ]
  },
  {
   "cell_type": "code",
   "execution_count": null,
   "metadata": {
    "collapsed": false
   },
   "outputs": [],
   "source": [
    "# and even give some as default (although they have to come in last):\n",
    "\n",
    "def some_function_C(xIn,factorOf=8):\n",
    "    print xIn\n",
    "    xOut=xIn*factorOf\n",
    "    return xOut\n",
    "\n",
    "some_function_C(100)\n"
   ]
  },
  {
   "cell_type": "code",
   "execution_count": null,
   "metadata": {
    "collapsed": false
   },
   "outputs": [],
   "source": [
    "# and then overired them if required:\n",
    "\n",
    "some_function_C(100,12)\n",
    "\n"
   ]
  },
  {
   "cell_type": "markdown",
   "metadata": {},
   "source": [
    "# Now you!\n",
    "\n",
    "Write a function that reads the excel file **minerva.xlsx** like above, sheet **\"the_real_sheet\"**\n",
    "and returns a pandas dataframe where all values from the 1 data column (Sample A) are above 3 "
   ]
  },
  {
   "cell_type": "code",
   "execution_count": null,
   "metadata": {
    "collapsed": true
   },
   "outputs": [],
   "source": []
  }
 ],
 "metadata": {
  "kernelspec": {
   "display_name": "Python 2",
   "language": "python",
   "name": "python2"
  },
  "language_info": {
   "codemirror_mode": {
    "name": "ipython",
    "version": 2
   },
   "file_extension": ".py",
   "mimetype": "text/x-python",
   "name": "python",
   "nbconvert_exporter": "python",
   "pygments_lexer": "ipython2",
   "version": "2.7.12"
  }
 },
 "nbformat": 4,
 "nbformat_minor": 1
}
