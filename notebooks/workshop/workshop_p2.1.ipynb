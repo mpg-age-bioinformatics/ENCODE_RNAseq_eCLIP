{
 "cells": [
  {
   "cell_type": "markdown",
   "metadata": {},
   "source": [
    "## Jupyter Introduction\n",
    "\n",
    "The Jupyter Notebook is a web application that allows you to create and share documents that contain live code, equations, visualizations and explanatory text. Uses include: data cleaning and transformation, numerical simulation, statistical modeling, machine learning and much more.\n",
    "\n",
    "http://jupyter.org\n",
    "\n",
    "\n",
    "You can use arrows to move up or down to cells. \n",
    "\n",
    "You can also use your mouse to select a cell."
   ]
  },
  {
   "cell_type": "code",
   "execution_count": null,
   "metadata": {
    "collapsed": false
   },
   "outputs": [],
   "source": [
    "print \"something\"\n",
    "\n",
    "# press \"alt + enter\" to run this cell and generate a new cell"
   ]
  },
  {
   "cell_type": "code",
   "execution_count": null,
   "metadata": {
    "collapsed": false
   },
   "outputs": [],
   "source": [
    "print \"something once again\"\n",
    "\n",
    "# press \"shift + enter\" to run this cell and move to the next one (ie. without creating a new one)"
   ]
  },
  {
   "cell_type": "code",
   "execution_count": null,
   "metadata": {
    "collapsed": false
   },
   "outputs": [],
   "source": [
    "print \"and one last time\"\n",
    "\n",
    "# press \"ctrl + enter\" to run this cell without moving to the next cell"
   ]
  },
  {
   "cell_type": "markdown",
   "metadata": {},
   "source": [
    "This is a **markdown**, annotation text. \n",
    "\n",
    "Select this cell and check out the **\"Markdown\"** label on the tool bar. \n",
    "\n",
    "Notice that when you select other cells they show **\"Code\"**."
   ]
  },
  {
   "cell_type": "code",
   "execution_count": null,
   "metadata": {
    "collapsed": false
   },
   "outputs": [],
   "source": [
    "%%bash\n",
    "printf \"this cell is bash.\\nDo you notice the different printf?\"\n",
    "\n",
    "# now run this cell"
   ]
  },
  {
   "cell_type": "code",
   "execution_count": null,
   "metadata": {
    "collapsed": false
   },
   "outputs": [],
   "source": [
    "%load_ext rpy2.ipython \n",
    "# this allows us to also do R\n",
    "\n",
    "# now run this cell"
   ]
  },
  {
   "cell_type": "code",
   "execution_count": null,
   "metadata": {
    "collapsed": false
   },
   "outputs": [],
   "source": [
    "%%R\n",
    "print(\"This cell is R. Do you notice the '()' ?\") \n",
    "\n",
    "# now run this cell"
   ]
  },
  {
   "cell_type": "markdown",
   "metadata": {},
   "source": [
    "Go ahead and run the next cells as well."
   ]
  },
  {
   "cell_type": "code",
   "execution_count": null,
   "metadata": {
    "collapsed": false
   },
   "outputs": [],
   "source": [
    "# let's try something else\n",
    "\n",
    "a=1000\n",
    "b=2\n",
    "c=1000/2\n",
    "print \"result=\", c"
   ]
  },
  {
   "cell_type": "code",
   "execution_count": null,
   "metadata": {
    "collapsed": false
   },
   "outputs": [],
   "source": [
    "s=\"This is a string\"\n",
    "l=[\"This\",\"is\",\"a\",\"list.\"]\n",
    "part_of_l=l[0:2]\n",
    "list_of_numbes=[2,3,4,5,6]\n",
    "this_is_a_dictionary={\"keyA\":\"valueA\",\"keyB\":\"valueB\"}\n",
    "getA=this_is_a_dictionary.get(\"keyA\")\n",
    "\n",
    "print \"\\ns=\", s\n",
    "print \"\\nl=\", l\n",
    "print \"\\npart_of_l, l[0:2]=\", part_of_l\n",
    "print \"\\nAs you can see, python is 0 based:\"\n",
    "print \"\\nlist_of_numbes=\", list_of_numbes\n",
    "print \"\\nlist_of_numbes[0:2]=\", list_of_numbes[0:2]\n",
    "print \"\\nd=\", this_is_a_dictionary\n",
    "print \"\\ngetA=\", getA"
   ]
  },
  {
   "cell_type": "markdown",
   "metadata": {},
   "source": [
    "In the next cell try to print a selection of the list \"l\" so that it looks like this: \n",
    "```python\n",
    "[\"a\",\"list.\"]\n",
    "```"
   ]
  },
  {
   "cell_type": "code",
   "execution_count": null,
   "metadata": {
    "collapsed": true
   },
   "outputs": [],
   "source": [
    "# do it here:\n",
    "\n"
   ]
  },
  {
   "cell_type": "markdown",
   "metadata": {},
   "source": [
    "Now try to get the value of *\"keyB\"* from the dictionary `this_is_a_dictionary`."
   ]
  },
  {
   "cell_type": "code",
   "execution_count": null,
   "metadata": {
    "collapsed": true
   },
   "outputs": [],
   "source": [
    "# do it here:\n",
    "\n"
   ]
  },
  {
   "cell_type": "code",
   "execution_count": null,
   "metadata": {
    "collapsed": false
   },
   "outputs": [],
   "source": [
    "# what about if staments in python\n",
    "\n",
    "if c >= 500:\n",
    "    print \"Yes!\"\n",
    "else:\n",
    "    print \"ohoh!\"\n",
    "    \n",
    "# in python you need to respect tab spacing for statments like \"if\""
   ]
  },
  {
   "cell_type": "code",
   "execution_count": null,
   "metadata": {
    "collapsed": false
   },
   "outputs": [],
   "source": [
    "# and loops?\n",
    "\n",
    "list_of_names=[\"Jorge\",\"Bouças\"]\n",
    "\n",
    "for name in list_of_names:\n",
    "    print \"printing\", name\n"
   ]
  },
  {
   "cell_type": "markdown",
   "metadata": {},
   "source": [
    "Lets give it a try at **bash** now.\n",
    "\n",
    "In bash you can list contents of a directory with \n",
    "```bash\n",
    "ls\n",
    "```\n",
    ", make directories with \n",
    "```bash\n",
    "mkdir\n",
    "``` \n",
    "and change directories with \n",
    "```bash\n",
    "cd\n",
    "```\n",
    "."
   ]
  },
  {
   "cell_type": "code",
   "execution_count": null,
   "metadata": {
    "collapsed": false
   },
   "outputs": [],
   "source": [
    "%%bash\n",
    "ls "
   ]
  },
  {
   "cell_type": "code",
   "execution_count": null,
   "metadata": {
    "collapsed": false
   },
   "outputs": [],
   "source": [
    "%%bash\n",
    "mkdir test_dir"
   ]
  },
  {
   "cell_type": "code",
   "execution_count": null,
   "metadata": {
    "collapsed": true
   },
   "outputs": [],
   "source": [
    "%%bash\n",
    "cd test_dir\n",
    "ls"
   ]
  },
  {
   "cell_type": "markdown",
   "metadata": {},
   "source": [
    "Try **Kernel** > **Restart & Clear Output**\n",
    "\n",
    "Now try **Cell** > **Run All**"
   ]
  }
 ],
 "metadata": {
  "kernelspec": {
   "display_name": "Python 2",
   "language": "python",
   "name": "python2"
  },
  "language_info": {
   "codemirror_mode": {
    "name": "ipython",
    "version": 2
   },
   "file_extension": ".py",
   "mimetype": "text/x-python",
   "name": "python",
   "nbconvert_exporter": "python",
   "pygments_lexer": "ipython2",
   "version": "2.7.12"
  }
 },
 "nbformat": 4,
 "nbformat_minor": 1
}
