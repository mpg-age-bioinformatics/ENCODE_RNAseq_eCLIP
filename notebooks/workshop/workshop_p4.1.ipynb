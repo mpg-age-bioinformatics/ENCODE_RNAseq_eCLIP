{
 "cells": [
  {
   "cell_type": "markdown",
   "metadata": {},
   "source": [
    "# Short rewind \n",
    "\n",
    "__________________\n",
    "\n",
    "\n",
    "### Help\n",
    "\n",
    "\n",
    "**bash**\n",
    "```bash\n",
    "<binary> --help\n",
    "\n",
    "rsem-run-ebseq --help\n",
    "```\n",
    "\n",
    "**python**\n",
    "```python\n",
    "help(<function/object>)\n",
    "\n",
    "help(pd.read_excel)\n",
    "```\n",
    "____________\n",
    "\n",
    "# python\n",
    "\n",
    "## Importing packages\n",
    "```python\n",
    "import pandas as pd\n",
    "import os\n",
    "```\n",
    "## Reading dataframes from files\n",
    "```python\n",
    "df = pd.read_excel( \"path/to/file.xlsx\" , sheetname=\"the_other_sheet\")\n",
    "df = pd.read_table( \"path/to/file.tsv\" )\n",
    "```\n",
    "\n",
    "## Filtering \n",
    "```python\n",
    "df_filtered=df[ ( df[\"Treated 1\"]>2 ) & ( df[\"Treated 1\"]<6 ) ]\n",
    "df_filtered=df[ df[\"ids\"].isin(list_of_ids) ]\n",
    "df_my_gene=df[ df[\"ids\"] == \"my_gene_id\" ]\n",
    "```\n",
    "## Changing columns headers\n",
    "```python\n",
    "df_filtered.columns=[\"ids\",\"mock1\",\"mock2\",\"shRNA1\",\"shRNA2\"]\n",
    "```\n",
    "## Save to file\n",
    "```python\n",
    "df_filtered.to_csv(\"path/to/file.tsv\" , sep=\"\\t\", index=False)\n",
    "```\n",
    "## Functions\n",
    "```python\n",
    "def some_function_C( xIn, factorOf=8 ):\n",
    "    print xIn\n",
    "    xOut = xIn*factorOf\n",
    "    return xOut \n",
    "\n",
    "result=some_function_C(100)\n",
    "result_b=some_function_C(100,12)\n",
    "```\n",
    "\n",
    "\n"
   ]
  },
  {
   "cell_type": "markdown",
   "metadata": {},
   "source": [
    "### Let's start doing some plots. \n",
    "\n",
    "`matplotlib` and `seaborn` are two python packages that became extremely known when it comes to plotting.\n",
    "\n",
    "Check out http://matplotlib.org and http://seaborn.pydata.org\n",
    "\n",
    "seaborn is built on top of matplotlib and therefore things like axis size can be found when looking for help on matplotlib"
   ]
  },
  {
   "cell_type": "code",
   "execution_count": null,
   "metadata": {
    "collapsed": false
   },
   "outputs": [],
   "source": [
    "import matplotlib\n",
    "import matplotlib.pyplot as plt\n",
    "%matplotlib inline\n",
    "# the line `%matplotlib inline` just allowed you to visuzalise your graphics direclty in your screen \n",
    "import seaborn as sns\n",
    "\n",
    "import pandas as pd\n",
    "import numpy as np"
   ]
  },
  {
   "cell_type": "markdown",
   "metadata": {},
   "source": [
    "# Distribution plots, histograms, kernel density estimation"
   ]
  },
  {
   "cell_type": "code",
   "execution_count": null,
   "metadata": {
    "collapsed": false
   },
   "outputs": [],
   "source": [
    "help(sns.distplot)"
   ]
  },
  {
   "cell_type": "code",
   "execution_count": null,
   "metadata": {
    "collapsed": false
   },
   "outputs": [],
   "source": [
    "antebis_group=\"Adam Shuhei Birgit Rosa Natalie Philipp Chun Jennifer Rebecca Varnesh Till \\\n",
    "Isabelle Sarah Andrea Özlem Parul Roberto Megumi Wenming Christoph Torsten Maria Renate \\\n",
    "Nadine Christian Anna Stephan Sina Martin Harsha Vardhan Rao\"\n",
    "\n",
    "antebis_ages=\"42 31 29 33 25 26 24 25 24 24 21 \\\n",
    "24 26 27 27 30 31 36 50 61 38 22 25 \\\n",
    "33 33 21 20 22 21 41 42 45\" "
   ]
  },
  {
   "cell_type": "markdown",
   "metadata": {},
   "source": [
    "Let's tranform that huge string into a list using the \"space\" as a separator."
   ]
  },
  {
   "cell_type": "code",
   "execution_count": null,
   "metadata": {
    "collapsed": true
   },
   "outputs": [],
   "source": [
    "list_of_names=antebis_group.split(\" \")\n",
    "\n",
    "list_of_ages=antebis_ages.split(\" \")"
   ]
  },
  {
   "cell_type": "markdown",
   "metadata": {},
   "source": [
    "Let's use comprehensive lists\n",
    "\n",
    "https://docs.python.org/2/tutorial/datastructures.html#list-comprehensions\n",
    "\n",
    "to make sure each item \"s\" in the \"list\" is transformed into an interger."
   ]
  },
  {
   "cell_type": "code",
   "execution_count": null,
   "metadata": {
    "collapsed": true
   },
   "outputs": [],
   "source": [
    "list_of_ages=[ int(s) for s in list_of_ages ]"
   ]
  },
  {
   "cell_type": "code",
   "execution_count": null,
   "metadata": {
    "collapsed": false
   },
   "outputs": [],
   "source": [
    "df=pd.DataFrame({\"Names\":list_of_names,\"Ages\":list_of_ages})\n",
    "df.head()"
   ]
  },
  {
   "cell_type": "code",
   "execution_count": null,
   "metadata": {
    "collapsed": false
   },
   "outputs": [],
   "source": [
    "df=df.sort_values(by=[\"Ages\"],ascending=False)\n",
    "df"
   ]
  },
  {
   "cell_type": "markdown",
   "metadata": {},
   "source": [
    "# Distribution plot"
   ]
  },
  {
   "cell_type": "code",
   "execution_count": null,
   "metadata": {
    "collapsed": false
   },
   "outputs": [],
   "source": [
    "sns.distplot(list_of_ages, kde=False, axlabel=\"Age (years)\")\n",
    "plt.ylabel(\"counts\")"
   ]
  },
  {
   "cell_type": "markdown",
   "metadata": {},
   "source": [
    "# Histogram\n",
    "\n",
    "Let's get the histogram so that the sum of all areas of each bar equals 1"
   ]
  },
  {
   "cell_type": "code",
   "execution_count": null,
   "metadata": {
    "collapsed": false
   },
   "outputs": [],
   "source": [
    "sns.set_style(\"white\") # remove that funny background\n",
    "\n",
    "sns.distplot(list_of_ages, kde=False, norm_hist=True)\n",
    "\n",
    "def LABELS(X,Y):\n",
    "    plt.xlabel(X)\n",
    "    plt.ylabel(Y)\n",
    "    \n",
    "LABELS(\"Age\",\"Probability Density\")"
   ]
  },
  {
   "cell_type": "code",
   "execution_count": null,
   "metadata": {
    "collapsed": false
   },
   "outputs": [],
   "source": [
    "# Just checking the sum is 1\n",
    "\n",
    "# bin size = ( range / nbins) \n",
    "\n",
    "# ( range / nbins) / (sum of heights of bins)\n",
    "\n",
    "print (41.0/7.0)*(0.0699 + 0.042 + 0.022 + 0.022 + 0.005 + 0.005 + 0.005)"
   ]
  },
  {
   "cell_type": "markdown",
   "metadata": {},
   "source": [
    "# Kernel Density Estimation\n",
    "\n",
    "Let's get the Kernel density estimation: https://en.wikipedia.org/wiki/Kernel_density_estimation"
   ]
  },
  {
   "cell_type": "code",
   "execution_count": null,
   "metadata": {
    "collapsed": false
   },
   "outputs": [],
   "source": [
    "sns.distplot(list_of_ages, kde=True )\n",
    "LABELS(\"Age\",\"Probability Density\")"
   ]
  },
  {
   "cell_type": "markdown",
   "metadata": {},
   "source": [
    "Before we move on check out the \n",
    "\n",
    "Freedman-Diaconis rule for selection of bin sizes on an histogram\n",
    "\n",
    "https://en.wikipedia.org/wiki/Freedman–Diaconis_rule"
   ]
  },
  {
   "cell_type": "code",
   "execution_count": null,
   "metadata": {
    "collapsed": false
   },
   "outputs": [],
   "source": [
    "# Now lets change the number of bins\n",
    "\n",
    "sns.distplot(list_of_ages, kde=True, norm_hist=True , bins=22 )\n",
    "LABELS(\"Age\",\"Probability Density\")\n",
    "\n",
    "# You should notice that this is not changing he KDE but rather making the histogram more defined to the KDE"
   ]
  },
  {
   "cell_type": "markdown",
   "metadata": {},
   "source": [
    "## Lookup this figure on KDEs: https://upload.wikimedia.org/wikipedia/en/4/41/Comparison_of_1D_histogram_and_KDE.png"
   ]
  },
  {
   "cell_type": "code",
   "execution_count": null,
   "metadata": {
    "collapsed": false
   },
   "outputs": [],
   "source": [
    "# The next function requires a numpy array instead of a list\n",
    "\n",
    "array_of_ages=np.array(list_of_ages)\n",
    "\n",
    "sns.kdeplot( array_of_ages )\n",
    "LABELS(\"Age\",\"Probability Density\")"
   ]
  },
  {
   "cell_type": "code",
   "execution_count": null,
   "metadata": {
    "collapsed": false
   },
   "outputs": [],
   "source": [
    "help(sns.kdeplot)"
   ]
  },
  {
   "cell_type": "code",
   "execution_count": null,
   "metadata": {
    "collapsed": false,
    "scrolled": false
   },
   "outputs": [],
   "source": [
    "# Let's change the bandwidth \n",
    "\n",
    "print \"bw=1.5\"\n",
    "sns.kdeplot( array_of_ages, bw=1.5 )\n",
    "LABELS(\"Age\",\"Probability Density\")\n",
    "plt.show()\n",
    "\n",
    "print \"\\n\\nbw=2.25\"\n",
    "sns.kdeplot( array_of_ages, bw=2.5 )\n",
    "LABELS(\"Age\",\"Probability Density\")\n",
    "plt.show()\n"
   ]
  },
  {
   "cell_type": "markdown",
   "metadata": {},
   "source": [
    "Check out https://en.wikipedia.org/wiki/Histogram#Number_of_bins_and_width for the **Scott's normal reference rule**\n",
    "\n",
    "# Scatter plots"
   ]
  },
  {
   "cell_type": "code",
   "execution_count": null,
   "metadata": {
    "collapsed": false
   },
   "outputs": [],
   "source": [
    "x=[1,2,3,4,5,4,4]\n",
    "y=[11,19,30,44,49,41,55]\n",
    "plt.scatter(x,y)\n",
    "LABELS(\"X\",\"Y\")"
   ]
  },
  {
   "cell_type": "markdown",
   "metadata": {},
   "source": [
    "Let's chanage the size of the marks"
   ]
  },
  {
   "cell_type": "code",
   "execution_count": null,
   "metadata": {
    "collapsed": false
   },
   "outputs": [],
   "source": [
    "plt.scatter(x,y,s=80)\n",
    "LABELS(\"X\",\"Y\")"
   ]
  },
  {
   "cell_type": "code",
   "execution_count": null,
   "metadata": {
    "collapsed": false
   },
   "outputs": [],
   "source": [
    "plt.scatter(x,y,s=[11,19,30,440,49,410,550])\n",
    "LABELS(\"X\",\"Y\")"
   ]
  },
  {
   "cell_type": "markdown",
   "metadata": {},
   "source": [
    "And now the colors"
   ]
  },
  {
   "cell_type": "code",
   "execution_count": null,
   "metadata": {
    "collapsed": false
   },
   "outputs": [],
   "source": [
    "plt.scatter(x,y,s=[11,19,30,440,49,410,550],c=[\"r\",\"b\",\"y\",\"g\",\"r\"])\n",
    "LABELS(\"X\",\"Y\")"
   ]
  },
  {
   "cell_type": "markdown",
   "metadata": {},
   "source": [
    "And the marker"
   ]
  },
  {
   "cell_type": "code",
   "execution_count": null,
   "metadata": {
    "collapsed": false
   },
   "outputs": [],
   "source": [
    "plt.scatter(x,y,s=[11,19,30,440,49,410,550],c=[\"r\",\"b\",\"y\",\"g\",\"r\"],marker=\"D\")\n",
    "LABELS(\"X\",\"Y\")"
   ]
  },
  {
   "cell_type": "code",
   "execution_count": null,
   "metadata": {
    "collapsed": false
   },
   "outputs": [],
   "source": [
    "print help(plt.scatter)\n",
    "print help(matplotlib.markers)"
   ]
  },
  {
   "cell_type": "code",
   "execution_count": null,
   "metadata": {
    "collapsed": true
   },
   "outputs": [],
   "source": [
    "def NormInt(df,sampleA,sampleB):\n",
    "    \"\"\"\n",
    "    Normalizes intensities of a gene in two samples\n",
    "    :param df: dataframe output of GetData()\n",
    "    :param sampleA: column header of sample A\n",
    "    :param sampleB: column header of sample B\n",
    "    :returns: normalized intensities\n",
    "    \"\"\"\n",
    "\n",
    "    c1=df[sampleA]\n",
    "    c2=df[sampleB]\n",
    "    return np.log10(np.sqrt(c1*c2))\n",
    "\n",
    "def MA(df,title,figName,c, daType=\"counts\",nbins=10,perc=.5,deg=3,eq=True,splines=True,spec=None,Targets=None,ylim=None,sizeRed=8):\n",
    "    \"\"\"\n",
    "    Plots an MA like plot GetData() outputs.\n",
    "    :param df: dataframe output of GetData()\n",
    "    :param title: plot title, 'Genes' or 'Transcripts'\n",
    "    :param figName: /path/to/saved/figure/prefix\n",
    "    :param c: pair of samples to be plotted in list format\n",
    "    :param daType: data type, ie. 'counts' or 'FPKM'\n",
    "    :param nbins: number of bins on normalized intensities to fit the splines\n",
    "    :param per: log2(fold change) percentil to which the splines will be fitted\n",
    "    :param deg: degress of freedom used to fit the splines\n",
    "    :param eq: if true assumes for each bin that the lower and upper values are equally distant to 0, taking the smaller distance for both\n",
    "    :param spec: list of ids to be highlighted\n",
    "    :param Targets: list of ids that will be highlighted if outside of the fitted splines\n",
    "    :param ylim: a list of limits to apply on the y-axis of the plot\n",
    "    :param sizeRed: size of the highlight marker\n",
    "    :returns df_: a Pandas dataframe similar to the GetData() output with normalized intensities and spline outbounds rows marked as 1.\n",
    "    :returns red: list of ids that are highlighted\n",
    "    \"\"\"\n",
    "\n",
    "    df_=df[df[c[0]]>0]\n",
    "    df_=df_[df_[c[1]]>0]\n",
    "\n",
    "    df_[\"normalized intensities (%s vs. %s)\" %( str(c[0]), str(c[1]) ) ]=df_.apply(NormInt, args=(c[0],c[1],), axis=1)\n",
    "\n",
    "    if daType==\"counts\":\n",
    "        lowLim=np.log10(np.sqrt(10))\n",
    "    elif daType==\"FPKM\":\n",
    "        lowLim=np.log10(0.1)\n",
    "\n",
    "    df_b=df_[df_[\"normalized intensities (%s vs. %s)\" %( str(c[0]), str(c[1]) ) ]>lowLim ]\n",
    "    df_b.reset_index(inplace=True, drop=True)\n",
    "\n",
    "    Xdata=df_[\"normalized intensities (%s vs. %s)\" %( str(c[0]), str(c[1]) ) ].tolist()\n",
    "    Ydata=df_[\"log2(%s/%s)\" %( str(c[1]), str(c[0]) )].tolist()\n",
    "\n",
    "    minX=min(Xdata)\n",
    "    maxX=max(Xdata)\n",
    "\n",
    "    minX_=min(df_b[\"normalized intensities (%s vs. %s)\" %( str(c[0]), str(c[1]) ) ].tolist())\n",
    "    maxX_=max(df_b[\"normalized intensities (%s vs. %s)\" %( str(c[0]), str(c[1]) ) ].tolist())\n",
    "\n",
    "    df_b[\"bin\"]=pd.cut(df_b[\"normalized intensities (%s vs. %s)\" %( str(c[0]), str(c[1]) ) ].tolist(), nbins,labels=False)\n",
    "\n",
    "    spl=[]\n",
    "    for b in set( df_b[\"bin\"].tolist() ):\n",
    "        tmp=df_b[df_b[\"bin\"]==b]\n",
    "        Xbin = tmp[\"normalized intensities (%s vs. %s)\" %( str(c[0]), str(c[1]) ) ].tolist()\n",
    "        Xval = np.mean([max(Xbin),min(Xbin)])\n",
    "        Ybin = tmp[\"log2(%s/%s)\" %( str(c[1]), str(c[0]) )].tolist()\n",
    "        YvalP=np.percentile(Ybin,100.00-float(perc))\n",
    "        YvalM=np.percentile(Ybin,float(perc))\n",
    "        spl.append([Xval,YvalP,YvalM])\n",
    "\n",
    "    spl=pd.DataFrame( spl,columns=[\"X\",\"Upper\",\"Lower\"],index=range(len(spl)) )\n",
    "\n",
    "    def CheckMin(df):\n",
    "        U=abs(df[\"Upper\"])\n",
    "        L=abs(df[\"Lower\"])\n",
    "        return min([U,L])\n",
    "\n",
    "    spl[\"min\"]=spl.apply(CheckMin, axis=1)\n",
    "\n",
    "    coeffsUpper = np.polyfit(spl[\"X\"].tolist(), spl[\"Upper\"].tolist(), deg)\n",
    "    coeffsLower = np.polyfit(spl[\"X\"].tolist(), spl[\"Lower\"].tolist(), deg)\n",
    "\n",
    "    Xspl = np.array(np.linspace(minX, maxX, 10*nbins))\n",
    "\n",
    "    if eq:\n",
    "        coeffsUpper = np.polyfit(spl[\"X\"].tolist(), spl[\"min\"].tolist(), deg)\n",
    "        coeffsLower = np.polyfit(spl[\"X\"].tolist(), [ ss*-1 for ss in spl[\"min\"].tolist()] , deg)\n",
    "        YsplUpper = np.polyval(coeffsUpper, Xspl)\n",
    "        YsplLower = np.polyval(coeffsLower, Xspl)\n",
    "\n",
    "    else:\n",
    "        coeffsUpper = np.polyfit(spl[\"X\"].tolist(), spl[\"Upper\"].tolist(), deg)\n",
    "        coeffsLower = np.polyfit(spl[\"X\"].tolist(), spl[\"Lower\"].tolist(), deg)\n",
    "        YsplUpper = np.polyval(coeffsUpper, Xspl)\n",
    "        YsplLower = np.polyval(coeffsLower, Xspl)\n",
    "\n",
    "    def checkOutbounds(df,Xspl=Xspl,coeffsUpper=coeffsUpper,coeffsLower=coeffsLower,c=c):\n",
    "        x=df[\"normalized intensities (%s vs. %s)\" %( str(c[0]), str(c[1]) )]\n",
    "        y=df[\"log2(%s/%s)\" %( str(c[1]), str(c[0]) )]\n",
    "        if y < 0:\n",
    "            v=np.polyval(coeffsLower, x)\n",
    "            if y < v:\n",
    "                return 1\n",
    "            else:\n",
    "                return 0\n",
    "        else:\n",
    "            v=np.polyval(coeffsUpper, x)\n",
    "            if y > v:\n",
    "                return 1\n",
    "            else:\n",
    "                return 0\n",
    "\n",
    "    df_[\"OutBounds\"]=df_.apply(checkOutbounds,axis=1)\n",
    "\n",
    "    if Targets:\n",
    "        if title == \"Transcripts\":\n",
    "            red=df_[df_[\"OutBounds\"]==1][df_[\"transcript_id\"].isin(Targets)][\"transcript_id\"].tolist()\n",
    "            Xdata_=df_[df_[\"OutBounds\"]==1][df_[\"transcript_id\"].isin(Targets)][\"normalized intensities (%s vs. %s)\" %( str(c[0]), str(c[1]) ) ].tolist()\n",
    "            Ydata_=df_[df_[\"OutBounds\"]==1][df_[\"transcript_id\"].isin(Targets)][\"log2(%s/%s)\" %( str(c[1]), str(c[0]) ) ].tolist()\n",
    "        elif title == \"Genes\":\n",
    "            red=df_[df_[\"OutBounds\"]==1][df_[\"gene_id\"].isin(Targets)][\"gene_id\"].tolist()\n",
    "            Xdata_=df_[df_[\"OutBounds\"]==1][df_[\"gene_id\"].isin(Targets)][\"normalized intensities (%s vs. %s)\" %( str(c[0]), str(c[1]) )].tolist()\n",
    "            Ydata_=df_[df_[\"OutBounds\"]==1][df_[\"gene_id\"].isin(Targets)][\"log2(%s/%s)\" %( str(c[1]), str(c[0]) )].tolist()\n",
    "    elif spec:\n",
    "        if title == \"Transcripts\":\n",
    "            red=df_[df_[\"transcript_id\"].isin(spec)][\"transcript_id\"].tolist()\n",
    "            Xdata_=df_[df_[\"transcript_id\"].isin(spec)][\"normalized intensities (%s vs. %s)\" %( str(c[0]), str(c[1]) ) ].tolist()\n",
    "            Ydata_=df_[df_[\"transcript_id\"].isin(spec)][\"log2(%s/%s)\" %( str(c[1]), str(c[0]) ) ].tolist()\n",
    "        elif title == \"Genes\":\n",
    "            red=df_[df_[\"gene_id\"].isin(spec)][\"gene_id\"].tolist()\n",
    "            Xdata_=df_[df_[\"gene_id\"].isin(spec)][\"normalized intensities (%s vs. %s)\" %( str(c[0]), str(c[1]) )].tolist()\n",
    "            Ydata_=df_[df_[\"gene_id\"].isin(spec)][\"log2(%s/%s)\" %( str(c[1]), str(c[0]) )].tolist()\n",
    "    else:\n",
    "        Xdata_=df_[df_[\"OutBounds\"]==1][\"normalized intensities (%s vs. %s)\" %( str(c[0]), str(c[1]) ) ].tolist()\n",
    "        Ydata_=df_[df_[\"OutBounds\"]==1][\"log2(%s/%s)\" %( str(c[1]), str(c[0]) ) ].tolist()\n",
    "        if title == \"Transcripts\":\n",
    "            red=df_[df_[\"OutBounds\"]==1][\"transcript_id\"].tolist()\n",
    "        elif title == \"Genes\":\n",
    "            red=df_[df_[\"OutBounds\"]==1][\"gene_id\"].tolist()\n",
    "\n",
    "\n",
    "\n",
    "\n",
    "    fig = plt.gcf()\n",
    "    fig.set_size_inches(6, 6)\n",
    "    plt.scatter(Xdata,Ydata, s=2)\n",
    "    plt.scatter(Xdata_,Ydata_,s=sizeRed, c='r')\n",
    "    if splines:\n",
    "        plt.plot(Xspl,YsplUpper, \"-\",lw=0.5, c='g')\n",
    "        plt.plot(Xspl,YsplLower,\"-\", lw=0.5,c='g')\n",
    "\n",
    "    plt.xlabel(\"normalized intensities (%s vs. %s)\" %( str(c[0]), str(c[1]) ) )\n",
    "    plt.ylabel(\"log2(%s/%s)\" %( str(c[1]), str(c[0]) ))\n",
    "\n",
    "    if ylim:\n",
    "        plt.ylim(ylim[0],ylim[1])\n",
    "    else:\n",
    "        ylims=max([abs(min(Ydata)), abs(max(Ydata)) ])\n",
    "        plt.ylim(-ylims*1.1,ylims*1.1)\n",
    "\n",
    "    plt.title(title)\n",
    "    plt.savefig(figName+\".png\",dpi=300,bbox_inches='tight', pad_inches=0.1,format='png')\n",
    "    plt.savefig(figName+\".svg\",dpi=300,bbox_inches='tight', pad_inches=0.1,format='svg')\n",
    "    plt.show()\n",
    "\n",
    "    return df_,red"
   ]
  },
  {
   "cell_type": "markdown",
   "metadata": {},
   "source": [
    "# Your turn\n",
    "\n",
    "First download the workshop material for today by making the next cell run"
   ]
  },
  {
   "cell_type": "code",
   "execution_count": null,
   "metadata": {
    "collapsed": false
   },
   "outputs": [],
   "source": [
    "%%bash\n",
    "mkdir -p /home/jovyan/work/results/workshop_imported/\n",
    "wget -O /home/jovyan/work/results/workshop_imported/part4.data.tar.gz https://datashare.mpcdf.mpg.de/s/e97n9RtfNOsVuJQ/download\n",
    "cd /home/jovyan/work/results/workshop_imported/ && tar -zxvf part4.data.tar.gz"
   ]
  },
  {
   "cell_type": "markdown",
   "metadata": {},
   "source": [
    "1. Now read the differential gene expression tables from file a:\n",
    "```python\n",
    "fileA=\"/home/jovyan/work/results/workshop_imported/GeneMat.de.txt\"\n",
    "```\n",
    "and the FDR filtered tables from file b:\n",
    "```python\n",
    "fileB=\"/home/jovyan/work/results/workshop_imported/GeneMat.results\"\n",
    "```\n",
    "\n",
    "2. Once you have read the files plot an histogram of the expression values for each sample.\n",
    "\n",
    "3. A kernel density estimation for each sample\n",
    "\n",
    "4. A scatter plot of sample 1  vs sample 2\n",
    "\n",
    "5. An MA plot using the AGEpy package"
   ]
  },
  {
   "cell_type": "code",
   "execution_count": null,
   "metadata": {
    "collapsed": true
   },
   "outputs": [],
   "source": []
  }
 ],
 "metadata": {
  "kernelspec": {
   "display_name": "Python 2",
   "language": "python",
   "name": "python2"
  },
  "language_info": {
   "codemirror_mode": {
    "name": "ipython",
    "version": 2
   },
   "file_extension": ".py",
   "mimetype": "text/x-python",
   "name": "python",
   "nbconvert_exporter": "python",
   "pygments_lexer": "ipython2",
   "version": "2.7.12"
  }
 },
 "nbformat": 4,
 "nbformat_minor": 1
}
